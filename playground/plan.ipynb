{
 "cells": [
  {
   "cell_type": "markdown",
   "metadata": {},
   "source": [
    "Outline the overall steps:\n",
    "\n",
    "1. Ingest Data\n",
    "    *   Define which tickers\n",
    "    *   Define timeframe\n",
    "    *   Query yfinance or Alpha Vantage API\n",
    "    *   Load into PostgreSQL database\n",
    "\n",
    "2. Pre-process\n",
    "\n",
    "3. Process and Enrich\n",
    "\n",
    "4. Cluster\n",
    "\n",
    "5. Analyse Results"
   ]
  },
  {
   "cell_type": "code",
   "execution_count": 1,
   "metadata": {},
   "outputs": [
    {
     "data": {
      "text/plain": [
       "'hello world'"
      ]
     },
     "execution_count": 1,
     "metadata": {},
     "output_type": "execute_result"
    }
   ],
   "source": [
    "'hello world'"
   ]
  }
 ],
 "metadata": {
  "kernelspec": {
   "display_name": "Python 3",
   "language": "python",
   "name": "python3"
  },
  "language_info": {
   "codemirror_mode": {
    "name": "ipython",
    "version": 3
   },
   "file_extension": ".py",
   "mimetype": "text/x-python",
   "name": "python",
   "nbconvert_exporter": "python",
   "pygments_lexer": "ipython3",
   "version": "3.11.9"
  }
 },
 "nbformat": 4,
 "nbformat_minor": 2
}
