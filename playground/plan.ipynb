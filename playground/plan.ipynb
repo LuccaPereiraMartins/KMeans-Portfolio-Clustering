{
 "cells": [
  {
   "cell_type": "markdown",
   "metadata": {},
   "source": [
    "Outline the overall steps:\n",
    "\n",
    "1. Ingest Data\n",
    "    *   Define which tickers\n",
    "    *   Define timeframe\n",
    "    *   Query yfinance or Alpha Vantage API\n",
    "    *   Load into PostgreSQL database\n",
    "\n",
    "2. Pre-process\n",
    "\n",
    "3. Process and Enrich\n",
    "\n",
    "4. Cluster\n",
    "\n",
    "5. Analyse Results"
   ]
  },
  {
   "cell_type": "markdown",
   "metadata": {},
   "source": [
    "To Do List:\n",
    "    \n",
    "    - find how to involve the postgres db into the pipeline, start by plotting the FTSE250 benchmark from there\n",
    "    - consider how to do some of the pre-processing there instead of all in pandas\n",
    "    - continue finetuning the clustering to better understand the clusters it makes and better predict momentum. Ask llm if necessary\n",
    "    - refactor the older code to make it easier to work with\n",
    "    - continue looking at the alpha vantage API to see if useable\n",
    "    - find better ways to evaluate the model than just graphs, look at the final cluster centroids or MSE etc.\n",
    "    - look into polars"
   ]
  }
 ],
 "metadata": {
  "kernelspec": {
   "display_name": "Python 3",
   "language": "python",
   "name": "python3"
  },
  "language_info": {
   "codemirror_mode": {
    "name": "ipython",
    "version": 3
   },
   "file_extension": ".py",
   "mimetype": "text/x-python",
   "name": "python",
   "nbconvert_exporter": "python",
   "pygments_lexer": "ipython3",
   "version": "3.11.9"
  }
 },
 "nbformat": 4,
 "nbformat_minor": 2
}
